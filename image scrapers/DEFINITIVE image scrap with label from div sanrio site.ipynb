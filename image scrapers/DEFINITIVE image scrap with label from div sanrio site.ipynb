{
 "cells": [
  {
   "cell_type": "markdown",
   "id": "dccd6fa7",
   "metadata": {},
   "source": [
    "# Image scraper for Sanrio webshop"
   ]
  },
  {
   "cell_type": "markdown",
   "id": "1554987d",
   "metadata": {},
   "source": [
    "This script is an image scraper for the online shop of Sanrio to collect data of authentic plushies."
   ]
  },
  {
   "cell_type": "markdown",
   "id": "937075ed",
   "metadata": {},
   "source": [
    "Import all necessary models to make the image scraper work and save all the contents"
   ]
  },
  {
   "cell_type": "code",
   "execution_count": null,
   "id": "b05481a5",
   "metadata": {},
   "outputs": [],
   "source": [
    "import requests\n",
    "from bs4 import BeautifulSoup\n",
    "import os\n",
    "from builtins import open, bytes\n",
    "import uuid\n",
    "import time"
   ]
  },
  {
   "cell_type": "markdown",
   "id": "d6fba666",
   "metadata": {},
   "source": [
    "The scraper is into a function so it can be executed multiple times by just referencing it. The function accept a URL with the parameter 'url' <br>\n",
    "1. A response to the URL is made, to which the page HTML source is parsed in test\n",
    "2. The script finds the titles of the listings in the HTML page source, which is in the aria-label\n",
    "3. A folder where the images go is refenced in a variable. If the folder does not exist, it will be created first\n",
    "4. Using a 'for loop', the images are downloaded from their source URLs and saved in the aforementioned folder. To avoid the possibility of overloading the server, the script pauses 3 seconds for every 10 seconds. The images are retrieved and saved by creating the file first and copying the source data from the images in it as binary data, which is used for non-text files\n",
    "<br> <br> \n",
    "The images are named according to the title of the listing of the plush, which is from the aria-label. To prevent the images from overridding eachother, an incremented number is added at the end of the filename. The script also checks if the source URL starts with 'http' to download the images. If not the case, a protocol indicator is added at the start of the URL."
   ]
  },
  {
   "cell_type": "code",
   "execution_count": 2,
   "id": "6cda0018",
   "metadata": {},
   "outputs": [],
   "source": [
    "def download_images(url):\n",
    "    response = requests.get(url)\n",
    "    soup = BeautifulSoup(response.text, \"html.parser\")\n",
    "\n",
    "    protocol_indicator = \"https:\"\n",
    "\n",
    "    a = soup.find_all(\"a\", {\"aria-label\": True})\n",
    "\n",
    "    folder_name = 'authentic'\n",
    "    if not os.path.exists(folder_name):\n",
    "            os.makedirs(folder_name)\n",
    "\n",
    "    for i, aria_labels in enumerate (a):\n",
    "        if i % 10 == 0:\n",
    "            time.sleep(3)\n",
    "        imgs = aria_labels.find_all(\"img\", {\"src\": True})\n",
    "        for i, img in enumerate (imgs):\n",
    "            src = img[\"src\"]\n",
    "            \n",
    "            if not src.startswith(\"http\"):\n",
    "                src = protocol_indicator + src\n",
    "            response = requests.get(src)\n",
    "            file_name = aria_labels[\"aria-label\"]\n",
    "        \n",
    "            with open(f\"{folder_name}/{file_name}_{i}.jpg\", 'wb') as f:\n",
    "                f.write(response.content)"
   ]
  },
  {
   "cell_type": "markdown",
   "id": "9700f888",
   "metadata": {},
   "source": [
    "The function is called with the URL in the parameter, to which all the images are downloaded in the folder. As there are multiple pages of listings on the site, the function would have to be called for each one"
   ]
  },
  {
   "cell_type": "code",
   "execution_count": 4,
   "id": "36e2041d",
   "metadata": {},
   "outputs": [],
   "source": [
    "download_images(\"https://www.sanrio.com/collections/plush\")\n",
    "download_images(\"https://www.sanrio.com/collections/plush?page=2\")\n",
    "download_images(\"https://www.sanrio.com/collections/plush?page=3\")\n",
    "download_images(\"https://www.sanrio.com/collections/plush?page=4\")"
   ]
  }
 ],
 "metadata": {
  "kernelspec": {
   "display_name": "example",
   "language": "python",
   "name": "example"
  },
  "language_info": {
   "codemirror_mode": {
    "name": "ipython",
    "version": 3
   },
   "file_extension": ".py",
   "mimetype": "text/x-python",
   "name": "python",
   "nbconvert_exporter": "python",
   "pygments_lexer": "ipython3",
   "version": "3.11.4"
  }
 },
 "nbformat": 4,
 "nbformat_minor": 5
}
