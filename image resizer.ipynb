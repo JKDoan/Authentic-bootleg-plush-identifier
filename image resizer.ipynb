{
 "cells": [
  {
   "cell_type": "markdown",
   "id": "273db4fe",
   "metadata": {},
   "source": [
    "## Image resizer"
   ]
  },
  {
   "cell_type": "code",
   "execution_count": null,
   "id": "bf06d710",
   "metadata": {},
   "outputs": [],
   "source": []
  },
  {
   "cell_type": "code",
   "execution_count": 1,
   "id": "372ccda3",
   "metadata": {},
   "outputs": [],
   "source": [
    "from PIL import Image\n",
    "import os\n",
    "from fastai.vision.all import *"
   ]
  },
  {
   "cell_type": "code",
   "execution_count": null,
   "id": "ef8121e6",
   "metadata": {},
   "outputs": [],
   "source": []
  },
  {
   "cell_type": "code",
   "execution_count": 2,
   "id": "e7533e96",
   "metadata": {},
   "outputs": [],
   "source": [
    "# Set the maximum size\n",
    "max_size = 224\n",
    "\n",
    "# Set the input and output folders\n",
    "input_folder = r\"C:\\Users\\jenny\\Desktop\\minor\\notebooks\\authentic bootleg plush identifier\\output\"\n",
    "output_folder = r\"C:\\Users\\jenny\\Desktop\\minor\\notebooks\\authentic bootleg plush identifier\\bootleg\"\n",
    "\n",
    "# Create the output folder if it does not exist\n",
    "if not os.path.exists(output_folder):\n",
    "    os.makedirs(output_folder)"
   ]
  },
  {
   "cell_type": "code",
   "execution_count": null,
   "id": "ac549162",
   "metadata": {},
   "outputs": [],
   "source": []
  },
  {
   "cell_type": "code",
   "execution_count": 8,
   "id": "2fd2d591",
   "metadata": {},
   "outputs": [
    {
     "data": {
      "text/plain": [
       "4"
      ]
     },
     "execution_count": 8,
     "metadata": {},
     "output_type": "execute_result"
    }
   ],
   "source": [
    "failed = verify_images(get_image_files(input_folder))\n",
    "failed.map(Path.unlink)\n",
    "len(failed)"
   ]
  },
  {
   "cell_type": "code",
   "execution_count": null,
   "id": "75b316ea",
   "metadata": {},
   "outputs": [],
   "source": []
  },
  {
   "cell_type": "code",
   "execution_count": 3,
   "id": "51fe7056",
   "metadata": {},
   "outputs": [],
   "source": [
    "# Loop through all the files in the input folder\n",
    "for filename in os.listdir(input_folder):\n",
    "    # Check if the file is an image\n",
    "    if filename.endswith('.jpg') or filename.endswith('.jpeg') or filename.endswith('.png'):\n",
    "        # Open the image file\n",
    "        with Image.open(os.path.join(input_folder, filename)) as img:\n",
    "            \n",
    "            if img.mode in (\"RGBA\", \"P\"):\n",
    "                img = img.convert(\"RGB\")\n",
    "                \n",
    "            # Calculate the new size while maintaining the aspect ratio\n",
    "            width, height = img.size\n",
    "            if width > height:\n",
    "                new_width = max_size\n",
    "                new_height = int(height * (max_size / width))\n",
    "            else:\n",
    "                new_height = max_size\n",
    "                new_width = int(width * (max_size / height))\n",
    "                \n",
    "            # Resize the image\n",
    "            img = img.resize((new_width, new_height))\n",
    "            # Save the resized image to the output folder\n",
    "            img.save(os.path.join(output_folder, filename))"
   ]
  }
 ],
 "metadata": {
  "kernelspec": {
   "display_name": "example",
   "language": "python",
   "name": "example"
  },
  "language_info": {
   "codemirror_mode": {
    "name": "ipython",
    "version": 3
   },
   "file_extension": ".py",
   "mimetype": "text/x-python",
   "name": "python",
   "nbconvert_exporter": "python",
   "pygments_lexer": "ipython3",
   "version": "3.11.4"
  }
 },
 "nbformat": 4,
 "nbformat_minor": 5
}
