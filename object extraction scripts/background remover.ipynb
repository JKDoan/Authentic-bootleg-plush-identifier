{
 "cells": [
  {
   "cell_type": "code",
   "execution_count": 2,
   "id": "36447112",
   "metadata": {
    "collapsed": true
   },
   "outputs": [
    {
     "name": "stdout",
     "output_type": "stream",
     "text": [
      "Requirement already satisfied: rembg in d:\\jenny\\code\\anaconda3\\envs\\example\\lib\\site-packages (2.0.52)\n",
      "Requirement already satisfied: jsonschema in d:\\jenny\\code\\anaconda3\\envs\\example\\lib\\site-packages (from rembg) (4.17.3)\n",
      "Requirement already satisfied: numpy in d:\\jenny\\code\\anaconda3\\envs\\example\\lib\\site-packages (from rembg) (1.24.3)\n",
      "Requirement already satisfied: onnxruntime in d:\\jenny\\code\\anaconda3\\envs\\example\\lib\\site-packages (from rembg) (1.16.1)\n",
      "Requirement already satisfied: opencv-python-headless in d:\\jenny\\code\\anaconda3\\envs\\example\\lib\\site-packages (from rembg) (4.8.1.78)\n",
      "Requirement already satisfied: pillow in d:\\jenny\\code\\anaconda3\\envs\\example\\lib\\site-packages (from rembg) (9.4.0)\n",
      "Requirement already satisfied: pooch in d:\\jenny\\code\\anaconda3\\envs\\example\\lib\\site-packages (from rembg) (1.8.0)\n",
      "Requirement already satisfied: pymatting in d:\\jenny\\code\\anaconda3\\envs\\example\\lib\\site-packages (from rembg) (1.1.10)\n",
      "Requirement already satisfied: scikit-image in d:\\jenny\\code\\anaconda3\\envs\\example\\lib\\site-packages (from rembg) (0.20.0)\n",
      "Requirement already satisfied: scipy in d:\\jenny\\code\\anaconda3\\envs\\example\\lib\\site-packages (from rembg) (1.11.1)\n",
      "Requirement already satisfied: tqdm in d:\\jenny\\code\\anaconda3\\envs\\example\\lib\\site-packages (from rembg) (4.66.1)\n",
      "Requirement already satisfied: attrs>=17.4.0 in d:\\jenny\\code\\anaconda3\\envs\\example\\lib\\site-packages (from jsonschema->rembg) (22.1.0)\n",
      "Requirement already satisfied: pyrsistent!=0.17.0,!=0.17.1,!=0.17.2,>=0.14.0 in d:\\jenny\\code\\anaconda3\\envs\\example\\lib\\site-packages (from jsonschema->rembg) (0.18.0)\n",
      "Requirement already satisfied: coloredlogs in d:\\jenny\\code\\anaconda3\\envs\\example\\lib\\site-packages (from onnxruntime->rembg) (15.0.1)\n",
      "Requirement already satisfied: flatbuffers in d:\\jenny\\code\\anaconda3\\envs\\example\\lib\\site-packages (from onnxruntime->rembg) (23.5.26)\n",
      "Requirement already satisfied: packaging in d:\\jenny\\code\\anaconda3\\envs\\example\\lib\\site-packages (from onnxruntime->rembg) (23.1)\n",
      "Requirement already satisfied: protobuf in d:\\jenny\\code\\anaconda3\\envs\\example\\lib\\site-packages (from onnxruntime->rembg) (4.25.0)\n",
      "Requirement already satisfied: sympy in d:\\jenny\\code\\anaconda3\\envs\\example\\lib\\site-packages (from onnxruntime->rembg) (1.12)\n",
      "Requirement already satisfied: platformdirs>=2.5.0 in d:\\jenny\\code\\anaconda3\\envs\\example\\lib\\site-packages (from pooch->rembg) (3.10.0)\n",
      "Requirement already satisfied: requests>=2.19.0 in d:\\jenny\\code\\anaconda3\\envs\\example\\lib\\site-packages (from pooch->rembg) (2.31.0)\n",
      "Requirement already satisfied: numba!=0.49.0 in d:\\jenny\\code\\anaconda3\\envs\\example\\lib\\site-packages (from pymatting->rembg) (0.57.1)\n",
      "Requirement already satisfied: networkx>=2.8 in d:\\jenny\\code\\anaconda3\\envs\\example\\lib\\site-packages (from scikit-image->rembg) (3.1)\n",
      "Requirement already satisfied: imageio>=2.4.1 in d:\\jenny\\code\\anaconda3\\envs\\example\\lib\\site-packages (from scikit-image->rembg) (2.25.0)\n",
      "Requirement already satisfied: tifffile>=2019.7.26 in d:\\jenny\\code\\anaconda3\\envs\\example\\lib\\site-packages (from scikit-image->rembg) (2023.1.23.1)\n",
      "Requirement already satisfied: PyWavelets>=1.1.1 in d:\\jenny\\code\\anaconda3\\envs\\example\\lib\\site-packages (from scikit-image->rembg) (1.4.1)\n",
      "Requirement already satisfied: lazy_loader>=0.1 in d:\\jenny\\code\\anaconda3\\envs\\example\\lib\\site-packages (from scikit-image->rembg) (0.3)\n",
      "Requirement already satisfied: colorama in d:\\jenny\\code\\anaconda3\\envs\\example\\lib\\site-packages (from tqdm->rembg) (0.4.6)\n",
      "Requirement already satisfied: llvmlite<0.41,>=0.40.0dev0 in d:\\jenny\\code\\anaconda3\\envs\\example\\lib\\site-packages (from numba!=0.49.0->pymatting->rembg) (0.40.0)\n",
      "Requirement already satisfied: charset-normalizer<4,>=2 in d:\\jenny\\code\\anaconda3\\envs\\example\\lib\\site-packages (from requests>=2.19.0->pooch->rembg) (2.0.4)\n",
      "Requirement already satisfied: idna<4,>=2.5 in d:\\jenny\\code\\anaconda3\\envs\\example\\lib\\site-packages (from requests>=2.19.0->pooch->rembg) (3.4)\n",
      "Requirement already satisfied: urllib3<3,>=1.21.1 in d:\\jenny\\code\\anaconda3\\envs\\example\\lib\\site-packages (from requests>=2.19.0->pooch->rembg) (1.26.16)\n",
      "Requirement already satisfied: certifi>=2017.4.17 in d:\\jenny\\code\\anaconda3\\envs\\example\\lib\\site-packages (from requests>=2.19.0->pooch->rembg) (2023.7.22)\n",
      "Requirement already satisfied: humanfriendly>=9.1 in d:\\jenny\\code\\anaconda3\\envs\\example\\lib\\site-packages (from coloredlogs->onnxruntime->rembg) (10.0)\n",
      "Requirement already satisfied: mpmath>=0.19 in d:\\jenny\\code\\anaconda3\\envs\\example\\lib\\site-packages (from sympy->onnxruntime->rembg) (1.3.0)\n",
      "Requirement already satisfied: pyreadline3 in d:\\jenny\\code\\anaconda3\\envs\\example\\lib\\site-packages (from humanfriendly>=9.1->coloredlogs->onnxruntime->rembg) (3.4.1)\n",
      "Note: you may need to restart the kernel to use updated packages.\n"
     ]
    }
   ],
   "source": [
    "pip install Pillow\n",
    "pip install rembg"
   ]
  },
  {
   "cell_type": "code",
   "execution_count": 1,
   "id": "8105af44",
   "metadata": {
    "scrolled": true
   },
   "outputs": [
    {
     "name": "stderr",
     "output_type": "stream",
     "text": [
      "D:\\Jenny\\Code\\anaconda3\\envs\\example\\Lib\\site-packages\\paramiko\\transport.py:219: CryptographyDeprecationWarning: Blowfish has been deprecated\n",
      "  \"class\": algorithms.Blowfish,\n"
     ]
    }
   ],
   "source": [
    "from PIL import Image\n",
    "from rembg import remove \n",
    "import os\n",
    "from fastai.vision.all import *"
   ]
  },
  {
   "cell_type": "code",
   "execution_count": 23,
   "id": "5ecdd55d",
   "metadata": {},
   "outputs": [],
   "source": [
    "folder_path = r\"C:\\Users\\jenny\\Desktop\\minor\\notebooks\\authentic bootleg plush identifier\\determine_real_or_fake\\hellokitty\\bootleg\"\n",
    "folderoutput_path = r\"C:\\Users\\jenny\\Desktop\\minor\\notebooks\\authentic bootleg plush identifier\\determine_real_or_fake\\hellokitty\\bg\"\n",
    "\n",
    "if not os.path.exists(folderoutput_path):\n",
    "    os.makedirs(folderoutput_path)"
   ]
  },
  {
   "cell_type": "code",
   "execution_count": 24,
   "id": "024628d1",
   "metadata": {},
   "outputs": [],
   "source": [
    "for filename in os.listdir(folder_path):\n",
    "    if filename.endswith(\".png\") or filename.endswith(\".jpg\"):\n",
    "        input_path = os.path.join(folder_path, filename)\n",
    "        output_path = os.path.join(folder_path, filename + \".png\")\n",
    "        with Image.open(input_path) as img:\n",
    "            \n",
    "            if img.mode in (\"RGBA\", \"P\"):\n",
    "                img = img.convert(\"RGB\")\n",
    "                \n",
    "            output = remove(img)\n",
    "            output.save(os.path.join(folderoutput_path, filename + \".png\"))"
   ]
  }
 ],
 "metadata": {
  "kernelspec": {
   "display_name": "example",
   "language": "python",
   "name": "example"
  },
  "language_info": {
   "codemirror_mode": {
    "name": "ipython",
    "version": 3
   },
   "file_extension": ".py",
   "mimetype": "text/x-python",
   "name": "python",
   "nbconvert_exporter": "python",
   "pygments_lexer": "ipython3",
   "version": "3.11.4"
  }
 },
 "nbformat": 4,
 "nbformat_minor": 5
}
