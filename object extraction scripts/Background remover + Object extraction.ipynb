{
 "cells": [
  {
   "cell_type": "markdown",
   "id": "f8b209f8",
   "metadata": {},
   "source": [
    "## Background remover + Object extraction"
   ]
  },
  {
   "cell_type": "markdown",
   "id": "5d4d66da",
   "metadata": {},
   "source": [
    "For the data set it is important to have as much reliable data as possible. As my model should only analyze the plushies themselves, it's beneficial to remove the background behind the plushies. For this, I build a background remover script using Python library rembg. <br>\n",
    "Because some images also contain multiple plushies in one image, I also used a script to extract the those in multiple images. The script I used is from an answer from StackOverflow that uses OpenCV: https://stackoverflow.com/a/56604981"
   ]
  },
  {
   "cell_type": "markdown",
   "id": "da382361",
   "metadata": {},
   "source": [
    "Install the necessary libraries for image processing and manipulation"
   ]
  },
  {
   "cell_type": "code",
   "execution_count": 22,
   "id": "66bca3c5",
   "metadata": {
    "collapsed": true
   },
   "outputs": [
    {
     "ename": "SyntaxError",
     "evalue": "invalid syntax (1647248791.py, line 1)",
     "output_type": "error",
     "traceback": [
      "\u001b[1;36m  Cell \u001b[1;32mIn[22], line 1\u001b[1;36m\u001b[0m\n\u001b[1;33m    pip install pillow\u001b[0m\n\u001b[1;37m        ^\u001b[0m\n\u001b[1;31mSyntaxError\u001b[0m\u001b[1;31m:\u001b[0m invalid syntax\n"
     ]
    }
   ],
   "source": [
    "pip install pillow\n",
    "pip install rembg"
   ]
  },
  {
   "cell_type": "markdown",
   "id": "f0be9429",
   "metadata": {},
   "source": [
    "Import the models"
   ]
  },
  {
   "cell_type": "code",
   "execution_count": 4,
   "id": "bb677379",
   "metadata": {
    "collapsed": true
   },
   "outputs": [
    {
     "name": "stderr",
     "output_type": "stream",
     "text": [
      "D:\\Jenny\\Code\\anaconda3\\envs\\example\\Lib\\site-packages\\paramiko\\transport.py:219: CryptographyDeprecationWarning: Blowfish has been deprecated\n",
      "  \"class\": algorithms.Blowfish,\n"
     ]
    }
   ],
   "source": [
    "from PIL import Image\n",
    "from rembg import remove \n",
    "from fastai.vision.all import *\n",
    "import os\n",
    "import cv2"
   ]
  },
  {
   "cell_type": "markdown",
   "id": "b699182b",
   "metadata": {},
   "source": [
    "Declares an input folder where the original content is stored, and an output folder where the edited images will be\n",
    "If the output folder does not exist, the script will create one"
   ]
  },
  {
   "cell_type": "code",
   "execution_count": 12,
   "id": "e1849da9",
   "metadata": {},
   "outputs": [],
   "source": [
    "folder_input = r\"C:\\Users\\jenny\\Desktop\\minor\\notebooks\\authentic bootleg plush identifier\\test images\"\n",
    "folder_output = r\"C:\\Users\\jenny\\Desktop\\minor\\notebooks\\authentic bootleg plush identifier\\test images\\removed background\"\n",
    "\n",
    "if not os.path.exists(folderoutput_path):\n",
    "    os.makedirs(folderoutput_path)"
   ]
  },
  {
   "cell_type": "markdown",
   "id": "c0a5a780",
   "metadata": {},
   "source": [
    "The script goes through every file in an folder to find images with a '.png', '.jpg' or '.jpeg' extension. If it finds one, it declares the path of the input image.<br>\n",
    "If the color model of the images are RGBA or P, the model converts it to RGB to output an image with transparency.<br>\n",
    "The script then removed the background in the images and saves it in the output folder"
   ]
  },
  {
   "cell_type": "code",
   "execution_count": 13,
   "id": "89c447a1",
   "metadata": {},
   "outputs": [],
   "source": [
    "for filename in os.listdir(folder_input):\n",
    "    if filename.endswith('.jpg') or filename.endswith('.jpeg') or filename.endswith('.png'):\n",
    "        with Image.open(os.path.join(folder_input, filename)) as img:\n",
    "            \n",
    "            if img.mode in (\"RGBA\", \"P\"):\n",
    "                img = img.convert(\"RGB\")\n",
    "                \n",
    "            output = remove(img)\n",
    "            output.save(os.path.join(folder_output, filename + \".png\"))"
   ]
  },
  {
   "cell_type": "markdown",
   "id": "f871f5d2",
   "metadata": {},
   "source": [
    "When an image has multiple plushies in one image, object extraction can be done with Python scripting with OpenCV. Because the script doesn't support transparent images, they would have to be replaced with white pixels and then removed again after the extraction process <br>\n",
    "Like the background remover script, input and output folders are specified. If the output folder does not exist, it will be made automatically"
   ]
  },
  {
   "cell_type": "code",
   "execution_count": 29,
   "id": "f02eea38",
   "metadata": {},
   "outputs": [],
   "source": [
    "folder_input_t2w =  r\"C:\\Users\\jenny\\Desktop\\minor\\notebooks\\authentic bootleg plush identifier\\test images\\removed background\"\n",
    "output_folder_t2w =  r\"C:\\Users\\jenny\\Desktop\\minor\\notebooks\\authentic bootleg plush identifier\\test images\\transparant to white\"\n",
    "\n",
    "# Create the output folder if it does not exist\n",
    "if not os.path.exists(output_folder):\n",
    "    os.makedirs(output_folder)"
   ]
  },
  {
   "cell_type": "markdown",
   "id": "caa5c3e7",
   "metadata": {},
   "source": [
    "The script goes through every file in an folder to find images with a '.png', '.jpg' or '.jpeg' extension. If it finds one, it declares the path of the input image. <br>\n",
    "First a new image is created with a white background in the same size as the original image, which is 224 x 224 pixels. The image with the plush is then overlaid on the white background image and saved in the output folder"
   ]
  },
  {
   "cell_type": "code",
   "execution_count": 32,
   "id": "308e8829",
   "metadata": {},
   "outputs": [],
   "source": [
    "for filename in os.listdir(folder_input_t2w):\n",
    "    if filename.endswith('.jpg') or filename.endswith('.jpeg') or filename.endswith('.png'):\n",
    "        with Image.open(os.path.join(folder_input_t2w, filename)) as image:\n",
    "            \n",
    "            canvas = Image.new('RGB', image.size, (255,255,255,255))\n",
    "            canvas.paste(image, mask=image)\n",
    "            canvas.save(os.path.join(output_folder_t2w, filename))"
   ]
  },
  {
   "cell_type": "markdown",
   "id": "e3337af7",
   "metadata": {},
   "source": [
    "Declares an input folder where the images with white background is stored, and an output folder where the objects of the original images will be seperated. <br>\n",
    "If the output folder does not exist, the script will create one"
   ]
  },
  {
   "cell_type": "code",
   "execution_count": null,
   "id": "69affceb",
   "metadata": {},
   "outputs": [],
   "source": [
    "input_folder = r\"C:\\Users\\jenny\\Desktop\\minor\\notebooks\\authentic bootleg plush identifier\\test images\\transparant to white\"\n",
    "output_folder = r\"C:\\Users\\jenny\\Desktop\\minor\\notebooks\\authentic bootleg plush identifier\\test images\\extract objects\"\n",
    "\n",
    "# Create the output folder if it does not exist\n",
    "if not os.path.exists(output_folder):\n",
    "    os.makedirs(output_folder)"
   ]
  },
  {
   "cell_type": "markdown",
   "id": "b93f6293",
   "metadata": {},
   "source": [
    "The images go though several processes to obtain a binary image to extract the objects: <br>\n",
    "- Greyscale (converting the image to grey monochrome)\n",
    "- Gaussian blur (blurring an image to minimize image noise)\n",
    "- Otsu’s threshold (converts the image in white and black based on the found foreground and background)\n",
    "- Dilate (expands the white region representing the foreground)\n",
    "<br>\n",
    "\n",
    "When the binary image is created, the script then finds the contours of the objects. It then creates bounding boxes and extracts those, and saves the objects from the bounding boxes in seperate images.<br>"
   ]
  },
  {
   "cell_type": "code",
   "execution_count": 33,
   "id": "a29ebfd8",
   "metadata": {
    "collapsed": true
   },
   "outputs": [
    {
     "ename": "FileNotFoundError",
     "evalue": "[WinError 3] Het systeem kan het opgegeven pad niet vinden: 'C:\\\\Users\\\\jenny\\\\Desktop\\\\minor\\\\notebooks\\\\authentic bootleg plush identifier\\\\test images\\\\ggg'",
     "output_type": "error",
     "traceback": [
      "\u001b[1;31m---------------------------------------------------------------------------\u001b[0m",
      "\u001b[1;31mFileNotFoundError\u001b[0m                         Traceback (most recent call last)",
      "Cell \u001b[1;32mIn[33], line 1\u001b[0m\n\u001b[1;32m----> 1\u001b[0m \u001b[38;5;28;01mfor\u001b[39;00m image_name \u001b[38;5;129;01min\u001b[39;00m os\u001b[38;5;241m.\u001b[39mlistdir(input_folder):\n\u001b[0;32m      2\u001b[0m     \u001b[38;5;28;01mif\u001b[39;00m image_name\u001b[38;5;241m.\u001b[39mendswith(\u001b[38;5;124m\"\u001b[39m\u001b[38;5;124m.png\u001b[39m\u001b[38;5;124m\"\u001b[39m) \u001b[38;5;129;01mor\u001b[39;00m image_name\u001b[38;5;241m.\u001b[39mendswith(\u001b[38;5;124m\"\u001b[39m\u001b[38;5;124m.jpg\u001b[39m\u001b[38;5;124m\"\u001b[39m) \u001b[38;5;129;01mor\u001b[39;00m image_name\u001b[38;5;241m.\u001b[39mendswith(\u001b[38;5;124m\"\u001b[39m\u001b[38;5;124m.jpeg\u001b[39m\u001b[38;5;124m\"\u001b[39m):\n\u001b[0;32m      3\u001b[0m         \u001b[38;5;66;03m# Step 2: Object detection\u001b[39;00m\n\u001b[0;32m      4\u001b[0m         image \u001b[38;5;241m=\u001b[39m cv2\u001b[38;5;241m.\u001b[39mimread(os\u001b[38;5;241m.\u001b[39mpath\u001b[38;5;241m.\u001b[39mjoin(input_folder, image_name))\n",
      "\u001b[1;31mFileNotFoundError\u001b[0m: [WinError 3] Het systeem kan het opgegeven pad niet vinden: 'C:\\\\Users\\\\jenny\\\\Desktop\\\\minor\\\\notebooks\\\\authentic bootleg plush identifier\\\\test images\\\\ggg'"
     ]
    }
   ],
   "source": [
    "for image_name in os.listdir(input_folder):\n",
    "    if image_name.endswith(\".png\") or image_name.endswith(\".jpg\") or image_name.endswith(\".jpeg\"):\n",
    "        # Step 2: Object detection\n",
    "        image = cv2.imread(os.path.join(input_folder, image_name))\n",
    "        original = image.copy()\n",
    "        gray = cv2.cvtColor(image, cv2.COLOR_BGR2GRAY)\n",
    "        blur = cv2.GaussianBlur(gray, (5, 5), 0)\n",
    "        thresh = cv2.threshold(blur, 0, 255, cv2.THRESH_BINARY_INV + cv2.THRESH_OTSU)[1]\n",
    "        kernel = cv2.getStructuringElement(cv2.MORPH_RECT, (7, 7))\n",
    "        dilate = cv2.dilate(thresh, kernel, iterations=1)\n",
    "\n",
    "        # Find contours, obtain bounding box coordinates, and extract ROI\n",
    "        cnts = cv2.findContours(dilate, cv2.RETR_EXTERNAL, cv2.CHAIN_APPROX_SIMPLE)\n",
    "        cnts = cnts[0] if len(cnts) == 2 else cnts[1]\n",
    "        image_number = 0\n",
    "        for c in cnts:\n",
    "            x, y, w, h = cv2.boundingRect(c)\n",
    "            cv2.rectangle(image, (x, y), (x + w, y + h), (36, 255, 12), 2)\n",
    "            ROI = original[y:y + h, x:x + w]\n",
    "            cv2.imwrite(f\"{output_folder}/ROI_{image_name}_{image_number}.png\", ROI)\n",
    "            image_number += 1"
   ]
  }
 ],
 "metadata": {
  "kernelspec": {
   "display_name": "example",
   "language": "python",
   "name": "example"
  },
  "language_info": {
   "codemirror_mode": {
    "name": "ipython",
    "version": 3
   },
   "file_extension": ".py",
   "mimetype": "text/x-python",
   "name": "python",
   "nbconvert_exporter": "python",
   "pygments_lexer": "ipython3",
   "version": "3.11.4"
  }
 },
 "nbformat": 4,
 "nbformat_minor": 5
}
