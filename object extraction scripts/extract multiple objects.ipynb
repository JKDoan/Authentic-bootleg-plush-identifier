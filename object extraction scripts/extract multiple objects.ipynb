{
 "cells": [
  {
   "cell_type": "code",
   "execution_count": 1,
   "id": "f3e9dd54",
   "metadata": {},
   "outputs": [],
   "source": [
    "import cv2\n",
    "import os\n",
    "from PIL import Image"
   ]
  },
  {
   "cell_type": "code",
   "execution_count": 2,
   "id": "3c616f28",
   "metadata": {},
   "outputs": [],
   "source": [
    "input_folder = r\"C:\\Users\\jenny\\Desktop\\minor\\notebooks\\authentic bootleg plush identifier\\bootleg\"\n",
    "output_folder = r\"C:\\Users\\jenny\\Desktop\\minor\\notebooks\\authentic bootleg plush identifier\\extract\"\n",
    "\n",
    "# Create the output folder if it does not exist\n",
    "if not os.path.exists(output_folder):\n",
    "    os.makedirs(output_folder)"
   ]
  },
  {
   "cell_type": "code",
   "execution_count": 3,
   "id": "fe3afcc6",
   "metadata": {},
   "outputs": [],
   "source": [
    "for image_name in os.listdir(input_folder):\n",
    "    if image_name.endswith(\".png\") or image_name.endswith(\".jpg\") or image_name.endswith(\".jpeg\"):\n",
    "        # Step 2: Object detection\n",
    "        image = cv2.imread(os.path.join(input_folder, image_name))\n",
    "        original = image.copy()\n",
    "        gray = cv2.cvtColor(image, cv2.COLOR_BGR2GRAY)\n",
    "        blur = cv2.GaussianBlur(gray, (5, 5), 0)\n",
    "        thresh = cv2.threshold(blur, 0, 255, cv2.THRESH_BINARY_INV + cv2.THRESH_OTSU)[1]\n",
    "        kernel = cv2.getStructuringElement(cv2.MORPH_RECT, (7, 7))\n",
    "        dilate = cv2.dilate(thresh, kernel, iterations=1)\n",
    "\n",
    "        # Find contours, obtain bounding box coordinates, and extract ROI\n",
    "        cnts = cv2.findContours(dilate, cv2.RETR_EXTERNAL, cv2.CHAIN_APPROX_SIMPLE)\n",
    "        cnts = cnts[0] if len(cnts) == 2 else cnts[1]\n",
    "        image_number = 0\n",
    "        for c in cnts:\n",
    "            x, y, w, h = cv2.boundingRect(c)\n",
    "            cv2.rectangle(image, (x, y), (x + w, y + h), (36, 255, 12), 2)\n",
    "            ROI = original[y:y + h, x:x + w]\n",
    "            cv2.imwrite(f\"{output_folder}/ROI_{image_name}_{image_number}.png\", ROI)\n",
    "            image_number += 1"
   ]
  }
 ],
 "metadata": {
  "kernelspec": {
   "display_name": "example",
   "language": "python",
   "name": "example"
  },
  "language_info": {
   "codemirror_mode": {
    "name": "ipython",
    "version": 3
   },
   "file_extension": ".py",
   "mimetype": "text/x-python",
   "name": "python",
   "nbconvert_exporter": "python",
   "pygments_lexer": "ipython3",
   "version": "3.11.4"
  }
 },
 "nbformat": 4,
 "nbformat_minor": 5
}
