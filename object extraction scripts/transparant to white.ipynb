{
 "cells": [
  {
   "cell_type": "code",
   "execution_count": 36,
   "id": "fab5c9d2",
   "metadata": {},
   "outputs": [],
   "source": [
    "from PIL import Image\n",
    "import cv2\n",
    "import os"
   ]
  },
  {
   "cell_type": "code",
   "execution_count": 37,
   "id": "fc75a546",
   "metadata": {},
   "outputs": [],
   "source": [
    "input_folder = r\"C:\\Users\\jenny\\Desktop\\minor\\notebooks\\authentic bootleg plush identifier\\extract\"\n",
    "output_folder = r\"C:\\Users\\jenny\\Desktop\\minor\\notebooks\\authentic bootleg plush identifier\\bootleg\"\n",
    "\n",
    "# Create the output folder if it does not exist\n",
    "if not os.path.exists(output_folder):\n",
    "    os.makedirs(output_folder)"
   ]
  },
  {
   "cell_type": "code",
   "execution_count": 40,
   "id": "5c696389",
   "metadata": {},
   "outputs": [
    {
     "name": "stderr",
     "output_type": "stream",
     "text": [
      "C:\\Users\\jenny\\AppData\\Local\\Temp\\ipykernel_1700\\1076394251.py:11: DeprecationWarning: ANTIALIAS is deprecated and will be removed in Pillow 10 (2023-07-01). Use LANCZOS or Resampling.LANCZOS instead.\n",
      "  canvas.thumbnail([240, 240], Image.ANTIALIAS)\n"
     ]
    }
   ],
   "source": [
    "# Loop through all the files in the input folder\n",
    "for filename in os.listdir(input_folder):\n",
    "    # Check if the file is an image\n",
    "    if filename.endswith('.jpg') or filename.endswith('.jpeg') or filename.endswith('.png'):\n",
    "        # Open the image file\n",
    "        with Image.open(os.path.join(input_folder, filename)) as image:\n",
    "            image.convert(\"RGBA\") # Convert this to RGBA if possible\n",
    "\n",
    "            canvas = Image.new('RGBA', image.size, (255,255,255,255)) # Empty canvas colour (r,g,b,a)\n",
    "            canvas.paste(image, mask=image) # Paste the image onto the canvas, using it's alpha channel as mask\n",
    "            canvas.thumbnail([240, 240], Image.ANTIALIAS)\n",
    "            canvas.save(os.path.join(output_folder, filename))"
   ]
  }
 ],
 "metadata": {
  "kernelspec": {
   "display_name": "example",
   "language": "python",
   "name": "example"
  },
  "language_info": {
   "codemirror_mode": {
    "name": "ipython",
    "version": 3
   },
   "file_extension": ".py",
   "mimetype": "text/x-python",
   "name": "python",
   "nbconvert_exporter": "python",
   "pygments_lexer": "ipython3",
   "version": "3.11.4"
  }
 },
 "nbformat": 4,
 "nbformat_minor": 5
}
